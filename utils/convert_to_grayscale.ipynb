{
 "cells": [
  {
   "cell_type": "code",
   "execution_count": 1,
   "id": "20342fe3",
   "metadata": {},
   "outputs": [
    {
     "name": "stdout",
     "output_type": "stream",
     "text": [
      "변환 완료: ../data\\1.jpg\n",
      "변환 완료: ../data\\2.jpg\n"
     ]
    }
   ],
   "source": [
    "import os\n",
    "import cv2\n",
    "\n",
    "def convert_to_grayscale(input_dir, output_dir):\n",
    "    # 출력 디렉토리가 없으면 생성\n",
    "    os.makedirs(output_dir, exist_ok=True)\n",
    "\n",
    "    # 입력 디렉토리 내 모든 .jpg 파일 처리\n",
    "    for filename in os.listdir(input_dir):\n",
    "        if filename.lower().endswith(\".jpg\"):\n",
    "            input_path = os.path.join(input_dir, filename)\n",
    "            output_path = os.path.join(output_dir, filename)\n",
    "\n",
    "            # 이미지 읽기\n",
    "            image = cv2.imread(input_path)\n",
    "            if image is None:\n",
    "                print(f\"이미지를 읽을 수 없습니다: {input_path}\")\n",
    "                continue\n",
    "\n",
    "            # 흑백 변환\n",
    "            gray_image = cv2.cvtColor(image, cv2.COLOR_BGR2GRAY)\n",
    "\n",
    "            # 저장\n",
    "            cv2.imwrite(output_path, gray_image)\n",
    "            print(f\"변환 완료: {output_path}\")\n",
    "\n",
    "# 사용 예시\n",
    "input_directory = \"../data\"\n",
    "output_directory = \"../data\"\n",
    "\n",
    "convert_to_grayscale(input_directory, output_directory)"
   ]
  },
  {
   "cell_type": "code",
   "execution_count": null,
   "id": "5f46ee34",
   "metadata": {},
   "outputs": [],
   "source": []
  }
 ],
 "metadata": {
  "kernelspec": {
   "display_name": "310",
   "language": "python",
   "name": "python3"
  },
  "language_info": {
   "codemirror_mode": {
    "name": "ipython",
    "version": 3
   },
   "file_extension": ".py",
   "mimetype": "text/x-python",
   "name": "python",
   "nbconvert_exporter": "python",
   "pygments_lexer": "ipython3",
   "version": "3.10.18"
  }
 },
 "nbformat": 4,
 "nbformat_minor": 5
}
