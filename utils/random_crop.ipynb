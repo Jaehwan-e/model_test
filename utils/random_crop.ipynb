{
 "cells": [
  {
   "cell_type": "code",
   "execution_count": 1,
   "id": "bd21a671",
   "metadata": {},
   "outputs": [
    {
     "name": "stdout",
     "output_type": "stream",
     "text": [
      "저장 완료: ../data/cropped\\cropped_20250702_100947_574_3819.jpg\n",
      "저장 완료: ../data/cropped\\cropped_20250702_100947_575_1296.jpg\n",
      "저장 완료: ../data/cropped\\cropped_20250702_100947_577_7389.jpg\n",
      "저장 완료: ../data/cropped\\cropped_20250702_100947_582_1365.jpg\n",
      "저장 완료: ../data/cropped\\cropped_20250702_100947_584_2011.jpg\n",
      "저장 완료: ../data/cropped\\cropped_20250702_100947_588_4645.jpg\n",
      "저장 완료: ../data/cropped\\cropped_20250702_100947_590_2290.jpg\n",
      "저장 완료: ../data/cropped\\cropped_20250702_100947_592_9795.jpg\n",
      "저장 완료: ../data/cropped\\cropped_20250702_100947_594_9603.jpg\n",
      "저장 완료: ../data/cropped\\cropped_20250702_100947_595_1514.jpg\n"
     ]
    }
   ],
   "source": [
    "import cv2\n",
    "import os\n",
    "import random\n",
    "import numpy as np\n",
    "from datetime import datetime\n",
    "\n",
    "def safe_random_crop(image: np.ndarray, min_crop_size=(100, 100)):\n",
    "    h, w = image.shape[:2]\n",
    "    min_h, min_w = min_crop_size\n",
    "\n",
    "    crop_h = random.randint(min_h, h)\n",
    "    crop_w = random.randint(min_w, w)\n",
    "\n",
    "    top = random.randint(0, h - crop_h)\n",
    "    left = random.randint(0, w - crop_w)\n",
    "\n",
    "    return image[top:top+crop_h, left:left+crop_w]\n",
    "\n",
    "# ───────────────────────────────\n",
    "# 설정\n",
    "img_path = \"../data/WEB06556.jpg\"\n",
    "save_dir = \"../data/cropped\"\n",
    "\n",
    "# 폴더 없으면 생성\n",
    "os.makedirs(save_dir, exist_ok=True)\n",
    "\n",
    "img = cv2.imread(img_path)\n",
    "\n",
    "for i in range(10):\n",
    "    # 이미지 읽기 및 크롭\n",
    "    cropped = safe_random_crop(img, min_crop_size=(100, 100))\n",
    "\n",
    "    # 현재 시간 (밀리초 포함) + 랜덤값\n",
    "    timestamp = datetime.now().strftime(\"%Y%m%d_%H%M%S_%f\")[:-3]  # 밀리초까지\n",
    "    rand_val = random.randint(1000, 9999)\n",
    "    filename = f\"cropped_{timestamp}_{rand_val}.jpg\"\n",
    "\n",
    "    # 저장 경로 생성 및 저장\n",
    "    save_path = os.path.join(save_dir, filename)\n",
    "    cv2.imwrite(save_path, cropped)\n",
    "    print(f\"저장 완료: {save_path}\")\n",
    "\n"
   ]
  },
  {
   "cell_type": "code",
   "execution_count": null,
   "id": "da1bebc9",
   "metadata": {},
   "outputs": [],
   "source": []
  }
 ],
 "metadata": {
  "kernelspec": {
   "display_name": "310",
   "language": "python",
   "name": "python3"
  },
  "language_info": {
   "codemirror_mode": {
    "name": "ipython",
    "version": 3
   },
   "file_extension": ".py",
   "mimetype": "text/x-python",
   "name": "python",
   "nbconvert_exporter": "python",
   "pygments_lexer": "ipython3",
   "version": "3.10.18"
  }
 },
 "nbformat": 4,
 "nbformat_minor": 5
}
