{
 "cells": [
  {
   "cell_type": "code",
   "execution_count": 8,
   "id": "bd21a671",
   "metadata": {},
   "outputs": [
    {
     "name": "stdout",
     "output_type": "stream",
     "text": [
      "저장 완료: ../data/cropped\\cropped_20250702_161454_293_9491.jpg\n",
      "저장 완료: ../data/cropped\\cropped_20250702_161454_295_8626.jpg\n",
      "저장 완료: ../data/cropped\\cropped_20250702_161454_300_6215.jpg\n",
      "저장 완료: ../data/cropped\\cropped_20250702_161454_301_1921.jpg\n",
      "저장 완료: ../data/cropped\\cropped_20250702_161454_303_8199.jpg\n",
      "저장 완료: ../data/cropped\\cropped_20250702_161454_305_8817.jpg\n",
      "저장 완료: ../data/cropped\\cropped_20250702_161454_306_7790.jpg\n",
      "저장 완료: ../data/cropped\\cropped_20250702_161454_308_2184.jpg\n",
      "저장 완료: ../data/cropped\\cropped_20250702_161454_309_4517.jpg\n",
      "저장 완료: ../data/cropped\\cropped_20250702_161454_311_7324.jpg\n",
      "저장 완료: ../data/cropped\\cropped_20250702_161454_317_8937.jpg\n",
      "저장 완료: ../data/cropped\\cropped_20250702_161454_318_7959.jpg\n",
      "저장 완료: ../data/cropped\\cropped_20250702_161454_320_8474.jpg\n",
      "저장 완료: ../data/cropped\\cropped_20250702_161454_323_8090.jpg\n",
      "저장 완료: ../data/cropped\\cropped_20250702_161454_326_4196.jpg\n",
      "저장 완료: ../data/cropped\\cropped_20250702_161454_328_4844.jpg\n",
      "저장 완료: ../data/cropped\\cropped_20250702_161454_329_4366.jpg\n",
      "저장 완료: ../data/cropped\\cropped_20250702_161454_333_2162.jpg\n",
      "저장 완료: ../data/cropped\\cropped_20250702_161454_334_3502.jpg\n",
      "저장 완료: ../data/cropped\\cropped_20250702_161454_340_8151.jpg\n",
      "저장 완료: ../data/cropped\\cropped_20250702_161454_341_6869.jpg\n",
      "저장 완료: ../data/cropped\\cropped_20250702_161454_345_9075.jpg\n",
      "저장 완료: ../data/cropped\\cropped_20250702_161454_351_1280.jpg\n",
      "저장 완료: ../data/cropped\\cropped_20250702_161454_356_4142.jpg\n",
      "저장 완료: ../data/cropped\\cropped_20250702_161454_360_8670.jpg\n",
      "저장 완료: ../data/cropped\\cropped_20250702_161454_364_7609.jpg\n",
      "저장 완료: ../data/cropped\\cropped_20250702_161454_366_8263.jpg\n",
      "저장 완료: ../data/cropped\\cropped_20250702_161454_370_3524.jpg\n",
      "저장 완료: ../data/cropped\\cropped_20250702_161454_373_6957.jpg\n",
      "저장 완료: ../data/cropped\\cropped_20250702_161454_374_5604.jpg\n"
     ]
    }
   ],
   "source": [
    "import cv2\n",
    "import os\n",
    "import random\n",
    "import numpy as np\n",
    "from datetime import datetime\n",
    "\n",
    "def safe_random_crop(image: np.ndarray, min_crop_size=(100, 100)):\n",
    "    h, w = image.shape[:2]\n",
    "    min_h, min_w = min_crop_size\n",
    "\n",
    "    crop_h = random.randint(min_h, h)\n",
    "    crop_w = random.randint(min_w, w)\n",
    "\n",
    "    top = random.randint(0, h - crop_h)\n",
    "    left = random.randint(0, w - crop_w)\n",
    "\n",
    "    return image[top:top+crop_h, left:left+crop_w]\n",
    "\n",
    "# ───────────────────────────────\n",
    "# 설정\n",
    "img_path = \"../data/2.jpg\"\n",
    "save_dir = \"../data/cropped\"\n",
    "\n",
    "# 폴더 없으면 생성\n",
    "os.makedirs(save_dir, exist_ok=True)\n",
    "\n",
    "img = cv2.imread(img_path)\n",
    "\n",
    "for i in range(30):\n",
    "    # 이미지 읽기 및 크롭\n",
    "    cropped = safe_random_crop(img, min_crop_size=(30, 30))\n",
    "\n",
    "    # 현재 시간 (밀리초 포함) + 랜덤값\n",
    "    timestamp = datetime.now().strftime(\"%Y%m%d_%H%M%S_%f\")[:-3]  # 밀리초까지\n",
    "    rand_val = random.randint(1000, 9999)\n",
    "    filename = f\"cropped_{timestamp}_{rand_val}.jpg\"\n",
    "\n",
    "    # 저장 경로 생성 및 저장\n",
    "    save_path = os.path.join(save_dir, filename)\n",
    "    cv2.imwrite(save_path, cropped)\n",
    "    print(f\"저장 완료: {save_path}\")\n",
    "\n"
   ]
  },
  {
   "cell_type": "code",
   "execution_count": null,
   "id": "da1bebc9",
   "metadata": {},
   "outputs": [],
   "source": []
  }
 ],
 "metadata": {
  "kernelspec": {
   "display_name": "310",
   "language": "python",
   "name": "python3"
  },
  "language_info": {
   "codemirror_mode": {
    "name": "ipython",
    "version": 3
   },
   "file_extension": ".py",
   "mimetype": "text/x-python",
   "name": "python",
   "nbconvert_exporter": "python",
   "pygments_lexer": "ipython3",
   "version": "3.10.18"
  }
 },
 "nbformat": 4,
 "nbformat_minor": 5
}
