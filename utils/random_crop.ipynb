{
 "cells": [
  {
   "cell_type": "code",
   "execution_count": 6,
   "id": "bd21a671",
   "metadata": {},
   "outputs": [
    {
     "name": "stdout",
     "output_type": "stream",
     "text": [
      "저장 완료: ../data/cropped\\cropped_20250702_135738_916_5902.jpg\n",
      "저장 완료: ../data/cropped\\cropped_20250702_135738_919_4379.jpg\n",
      "저장 완료: ../data/cropped\\cropped_20250702_135738_924_2894.jpg\n",
      "저장 완료: ../data/cropped\\cropped_20250702_135738_929_2006.jpg\n",
      "저장 완료: ../data/cropped\\cropped_20250702_135738_931_8150.jpg\n",
      "저장 완료: ../data/cropped\\cropped_20250702_135738_932_3885.jpg\n",
      "저장 완료: ../data/cropped\\cropped_20250702_135738_933_8033.jpg\n",
      "저장 완료: ../data/cropped\\cropped_20250702_135738_937_6844.jpg\n",
      "저장 완료: ../data/cropped\\cropped_20250702_135738_938_9340.jpg\n",
      "저장 완료: ../data/cropped\\cropped_20250702_135738_941_4057.jpg\n",
      "저장 완료: ../data/cropped\\cropped_20250702_135738_942_7590.jpg\n",
      "저장 완료: ../data/cropped\\cropped_20250702_135738_948_3193.jpg\n",
      "저장 완료: ../data/cropped\\cropped_20250702_135738_953_4464.jpg\n",
      "저장 완료: ../data/cropped\\cropped_20250702_135738_954_3040.jpg\n",
      "저장 완료: ../data/cropped\\cropped_20250702_135738_957_2870.jpg\n",
      "저장 완료: ../data/cropped\\cropped_20250702_135738_958_4180.jpg\n",
      "저장 완료: ../data/cropped\\cropped_20250702_135738_959_9242.jpg\n",
      "저장 완료: ../data/cropped\\cropped_20250702_135738_963_1674.jpg\n",
      "저장 완료: ../data/cropped\\cropped_20250702_135738_967_2961.jpg\n",
      "저장 완료: ../data/cropped\\cropped_20250702_135738_968_9357.jpg\n",
      "저장 완료: ../data/cropped\\cropped_20250702_135738_969_7840.jpg\n",
      "저장 완료: ../data/cropped\\cropped_20250702_135738_971_4783.jpg\n",
      "저장 완료: ../data/cropped\\cropped_20250702_135738_974_5966.jpg\n",
      "저장 완료: ../data/cropped\\cropped_20250702_135738_975_6578.jpg\n",
      "저장 완료: ../data/cropped\\cropped_20250702_135738_976_2219.jpg\n",
      "저장 완료: ../data/cropped\\cropped_20250702_135738_977_4713.jpg\n",
      "저장 완료: ../data/cropped\\cropped_20250702_135738_979_9731.jpg\n",
      "저장 완료: ../data/cropped\\cropped_20250702_135738_981_8897.jpg\n",
      "저장 완료: ../data/cropped\\cropped_20250702_135738_981_8409.jpg\n",
      "저장 완료: ../data/cropped\\cropped_20250702_135738_987_2171.jpg\n"
     ]
    }
   ],
   "source": [
    "import cv2\n",
    "import os\n",
    "import random\n",
    "import numpy as np\n",
    "from datetime import datetime\n",
    "\n",
    "def safe_random_crop(image: np.ndarray, min_crop_size=(100, 100)):\n",
    "    h, w = image.shape[:2]\n",
    "    min_h, min_w = min_crop_size\n",
    "\n",
    "    crop_h = random.randint(min_h, h)\n",
    "    crop_w = random.randint(min_w, w)\n",
    "\n",
    "    top = random.randint(0, h - crop_h)\n",
    "    left = random.randint(0, w - crop_w)\n",
    "\n",
    "    return image[top:top+crop_h, left:left+crop_w]\n",
    "\n",
    "# ───────────────────────────────\n",
    "# 설정\n",
    "img_path = \"../data/2.jpg\"\n",
    "save_dir = \"../data/cropped\"\n",
    "\n",
    "# 폴더 없으면 생성\n",
    "os.makedirs(save_dir, exist_ok=True)\n",
    "\n",
    "img = cv2.imread(img_path)\n",
    "\n",
    "for i in range(30):\n",
    "    # 이미지 읽기 및 크롭\n",
    "    cropped = safe_random_crop(img, min_crop_size=(30, 30))\n",
    "\n",
    "    # 현재 시간 (밀리초 포함) + 랜덤값\n",
    "    timestamp = datetime.now().strftime(\"%Y%m%d_%H%M%S_%f\")[:-3]  # 밀리초까지\n",
    "    rand_val = random.randint(1000, 9999)\n",
    "    filename = f\"cropped_{timestamp}_{rand_val}.jpg\"\n",
    "\n",
    "    # 저장 경로 생성 및 저장\n",
    "    save_path = os.path.join(save_dir, filename)\n",
    "    cv2.imwrite(save_path, cropped)\n",
    "    print(f\"저장 완료: {save_path}\")\n",
    "\n"
   ]
  },
  {
   "cell_type": "code",
   "execution_count": null,
   "id": "da1bebc9",
   "metadata": {},
   "outputs": [],
   "source": []
  }
 ],
 "metadata": {
  "kernelspec": {
   "display_name": "310",
   "language": "python",
   "name": "python3"
  },
  "language_info": {
   "codemirror_mode": {
    "name": "ipython",
    "version": 3
   },
   "file_extension": ".py",
   "mimetype": "text/x-python",
   "name": "python",
   "nbconvert_exporter": "python",
   "pygments_lexer": "ipython3",
   "version": "3.10.18"
  }
 },
 "nbformat": 4,
 "nbformat_minor": 5
}
